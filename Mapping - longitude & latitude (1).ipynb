{
 "cells": [
  {
   "cell_type": "markdown",
   "id": "b7c27f1d",
   "metadata": {
    "tags": [
     "Heading"
    ]
   },
   "source": [
    "# How to draw maps using latitude and longitude - Python"
   ]
  },
  {
   "cell_type": "code",
   "execution_count": null,
   "id": "013821b7",
   "metadata": {},
   "outputs": [],
   "source": []
  },
  {
   "cell_type": "markdown",
   "id": "55bb1855",
   "metadata": {},
   "source": [
    "Introduction :"
   ]
  },
  {
   "cell_type": "markdown",
   "id": "fcfac40a",
   "metadata": {
    "tags": [
     "Introduction"
    ]
   },
   "source": [
    "Longitude and latitude mapping is the process of converting longitude and latitude coordinates to a visual representation, such as a map. Python is a popular programming language for this task,There are several pythonic libraries available used to map latitude and longitude data points such as :\n",
    "\n",
    "~ Folium\n",
    "\n",
    "~ Geopandas\n",
    "\n",
    "~ Plotly"
   ]
  },
  {
   "cell_type": "markdown",
   "id": "e4bae990",
   "metadata": {},
   "source": [
    "Need of these libraries :"
   ]
  },
  {
   "cell_type": "markdown",
   "id": "2590fcfb",
   "metadata": {
    "tags": [
     "Need_of_these_libraries"
    ]
   },
   "source": [
    "Latitudes are horizontal lines that measure distance north or south of the equator. Longitudes are vertical lines that measure east or west of the meridian in Greenwich, England. Together, latitude and longitude enable cartographers, geographers and others to locate points or places on the globe.\n",
    "When our dataset is provided with some geographical data points we need to locate them on the globe/map to calculate the distance between them and fulfill our application needs.\n",
    "\n",
    "In my research i feel GeoPandas and Folium are the most satisfying Python packages to use because they produces a visible output that is directly linked to the real world."
   ]
  },
  {
   "cell_type": "markdown",
   "id": "9de652b9",
   "metadata": {},
   "source": [
    "# Folium :"
   ]
  },
  {
   "cell_type": "markdown",
   "id": "8e6947c5",
   "metadata": {
    "tags": [
     "Folium"
    ]
   },
   "source": [
    "It is easy to use and yet a powerful library. Folium is a Python wrapper for Leaflet. js which is a leading open-source JavaScript library for plotting interactive maps."
   ]
  },
  {
   "cell_type": "markdown",
   "id": "3b05c58a",
   "metadata": {},
   "source": [
    "Steps :"
   ]
  },
  {
   "cell_type": "markdown",
   "id": "51819b11",
   "metadata": {
    "tags": [
     "Steps"
    ]
   },
   "source": [
    "Step 1 . Install Folium :"
   ]
  },
  {
   "cell_type": "code",
   "execution_count": 2,
   "id": "9abd04ef",
   "metadata": {},
   "outputs": [
    {
     "name": "stdout",
     "output_type": "stream",
     "text": [
      "Defaulting to user installation because normal site-packages is not writeable\n",
      "Requirement already satisfied: folium in c:\\users\\shris\\appdata\\roaming\\python\\python311\\site-packages (0.14.0)\n",
      "Requirement already satisfied: branca>=0.6.0 in c:\\users\\shris\\appdata\\roaming\\python\\python311\\site-packages (from folium) (0.6.0)\n",
      "Requirement already satisfied: jinja2>=2.9 in c:\\programdata\\anaconda3\\lib\\site-packages (from folium) (3.1.2)\n",
      "Requirement already satisfied: numpy in c:\\programdata\\anaconda3\\lib\\site-packages (from folium) (1.24.3)\n",
      "Requirement already satisfied: requests in c:\\programdata\\anaconda3\\lib\\site-packages (from folium) (2.29.0)\n",
      "Requirement already satisfied: MarkupSafe>=2.0 in c:\\programdata\\anaconda3\\lib\\site-packages (from jinja2>=2.9->folium) (2.1.1)\n",
      "Requirement already satisfied: charset-normalizer<4,>=2 in c:\\programdata\\anaconda3\\lib\\site-packages (from requests->folium) (2.0.4)\n",
      "Requirement already satisfied: idna<4,>=2.5 in c:\\programdata\\anaconda3\\lib\\site-packages (from requests->folium) (3.4)\n",
      "Requirement already satisfied: urllib3<1.27,>=1.21.1 in c:\\programdata\\anaconda3\\lib\\site-packages (from requests->folium) (1.26.16)\n",
      "Requirement already satisfied: certifi>=2017.4.17 in c:\\programdata\\anaconda3\\lib\\site-packages (from requests->folium) (2023.5.7)\n",
      "Note: you may need to restart the kernel to use updated packages.\n"
     ]
    }
   ],
   "source": [
    "pip install folium"
   ]
  },
  {
   "cell_type": "markdown",
   "id": "79a80922",
   "metadata": {},
   "source": [
    "Step 2. Import folium and other libraries you need to handle your dataset."
   ]
  },
  {
   "cell_type": "code",
   "execution_count": 3,
   "id": "c78e67c8",
   "metadata": {},
   "outputs": [],
   "source": [
    "import folium"
   ]
  },
  {
   "cell_type": "markdown",
   "id": "a41a0de4",
   "metadata": {},
   "source": [
    "Step 3. Create a map object. You can do this with the folium.Map() function. This function takes two required parameters: the latitude and longitude of the center of the map. You can also pass in optional parameters to customize the map, such as the zoom level and the tile provider."
   ]
  },
  {
   "cell_type": "code",
   "execution_count": 9,
   "id": "cc5cb511",
   "metadata": {},
   "outputs": [],
   "source": [
    "map = folium.Map(location=[37.7833, -122.4167], zoom_start=13, tiles='Stamen Toner')"
   ]
  },
  {
   "cell_type": "markdown",
   "id": "e3c490cc",
   "metadata": {},
   "source": [
    "Step 4. Add data to the map. You can do this with a variety of Folium functions, such as \"folium.Marker()\" , \"folium.Circle()\" , and \"folium.Choropleth()\".\n",
    "\n",
    "  For example, to add a marker to the map, you would use the \"folium.Marker()\" function and pass in the latitude and longitude of the marker location."
   ]
  },
  {
   "cell_type": "code",
   "execution_count": 6,
   "id": "46da4a5b",
   "metadata": {},
   "outputs": [
    {
     "data": {
      "text/html": [
       "<div style=\"width:100%;\"><div style=\"position:relative;width:100%;height:0;padding-bottom:60%;\"><span style=\"color:#565656\">Make this Notebook Trusted to load map: File -> Trust Notebook</span><iframe srcdoc=\"&lt;!DOCTYPE html&gt;\n",
       "&lt;html&gt;\n",
       "&lt;head&gt;\n",
       "    \n",
       "    &lt;meta http-equiv=&quot;content-type&quot; content=&quot;text/html; charset=UTF-8&quot; /&gt;\n",
       "    \n",
       "        &lt;script&gt;\n",
       "            L_NO_TOUCH = false;\n",
       "            L_DISABLE_3D = false;\n",
       "        &lt;/script&gt;\n",
       "    \n",
       "    &lt;style&gt;html, body {width: 100%;height: 100%;margin: 0;padding: 0;}&lt;/style&gt;\n",
       "    &lt;style&gt;#map {position:absolute;top:0;bottom:0;right:0;left:0;}&lt;/style&gt;\n",
       "    &lt;script src=&quot;https://cdn.jsdelivr.net/npm/leaflet@1.9.3/dist/leaflet.js&quot;&gt;&lt;/script&gt;\n",
       "    &lt;script src=&quot;https://code.jquery.com/jquery-1.12.4.min.js&quot;&gt;&lt;/script&gt;\n",
       "    &lt;script src=&quot;https://cdn.jsdelivr.net/npm/bootstrap@5.2.2/dist/js/bootstrap.bundle.min.js&quot;&gt;&lt;/script&gt;\n",
       "    &lt;script src=&quot;https://cdnjs.cloudflare.com/ajax/libs/Leaflet.awesome-markers/2.0.2/leaflet.awesome-markers.js&quot;&gt;&lt;/script&gt;\n",
       "    &lt;link rel=&quot;stylesheet&quot; href=&quot;https://cdn.jsdelivr.net/npm/leaflet@1.9.3/dist/leaflet.css&quot;/&gt;\n",
       "    &lt;link rel=&quot;stylesheet&quot; href=&quot;https://cdn.jsdelivr.net/npm/bootstrap@5.2.2/dist/css/bootstrap.min.css&quot;/&gt;\n",
       "    &lt;link rel=&quot;stylesheet&quot; href=&quot;https://netdna.bootstrapcdn.com/bootstrap/3.0.0/css/bootstrap.min.css&quot;/&gt;\n",
       "    &lt;link rel=&quot;stylesheet&quot; href=&quot;https://cdn.jsdelivr.net/npm/@fortawesome/fontawesome-free@6.2.0/css/all.min.css&quot;/&gt;\n",
       "    &lt;link rel=&quot;stylesheet&quot; href=&quot;https://cdnjs.cloudflare.com/ajax/libs/Leaflet.awesome-markers/2.0.2/leaflet.awesome-markers.css&quot;/&gt;\n",
       "    &lt;link rel=&quot;stylesheet&quot; href=&quot;https://cdn.jsdelivr.net/gh/python-visualization/folium/folium/templates/leaflet.awesome.rotate.min.css&quot;/&gt;\n",
       "    \n",
       "            &lt;meta name=&quot;viewport&quot; content=&quot;width=device-width,\n",
       "                initial-scale=1.0, maximum-scale=1.0, user-scalable=no&quot; /&gt;\n",
       "            &lt;style&gt;\n",
       "                #map_ca4ff83180524b50af58a2a5a89e1a09 {\n",
       "                    position: relative;\n",
       "                    width: 100.0%;\n",
       "                    height: 100.0%;\n",
       "                    left: 0.0%;\n",
       "                    top: 0.0%;\n",
       "                }\n",
       "                .leaflet-container { font-size: 1rem; }\n",
       "            &lt;/style&gt;\n",
       "        \n",
       "&lt;/head&gt;\n",
       "&lt;body&gt;\n",
       "    \n",
       "    \n",
       "            &lt;div class=&quot;folium-map&quot; id=&quot;map_ca4ff83180524b50af58a2a5a89e1a09&quot; &gt;&lt;/div&gt;\n",
       "        \n",
       "&lt;/body&gt;\n",
       "&lt;script&gt;\n",
       "    \n",
       "    \n",
       "            var map_ca4ff83180524b50af58a2a5a89e1a09 = L.map(\n",
       "                &quot;map_ca4ff83180524b50af58a2a5a89e1a09&quot;,\n",
       "                {\n",
       "                    center: [37.7833, -122.4167],\n",
       "                    crs: L.CRS.EPSG3857,\n",
       "                    zoom: 13,\n",
       "                    zoomControl: true,\n",
       "                    preferCanvas: false,\n",
       "                }\n",
       "            );\n",
       "\n",
       "            \n",
       "\n",
       "        \n",
       "    \n",
       "            var tile_layer_f1c564170affc96f73f2d608ab844773 = L.tileLayer(\n",
       "                &quot;https://stamen-tiles-{s}.a.ssl.fastly.net/toner/{z}/{x}/{y}.png&quot;,\n",
       "                {&quot;attribution&quot;: &quot;Map tiles by \\u003ca target=\\&quot;_blank\\&quot; href=\\&quot;http://stamen.com\\&quot;\\u003eStamen Design\\u003c/a\\u003e, under \\u003ca target=\\&quot;_blank\\&quot; href=\\&quot;http://creativecommons.org/licenses/by/3.0\\&quot;\\u003eCC BY 3.0\\u003c/a\\u003e. Data by \\u0026copy; \\u003ca target=\\&quot;_blank\\&quot; href=\\&quot;http://openstreetmap.org\\&quot;\\u003eOpenStreetMap\\u003c/a\\u003e, under \\u003ca target=\\&quot;_blank\\&quot; href=\\&quot;http://www.openstreetmap.org/copyright\\&quot;\\u003eODbL\\u003c/a\\u003e.&quot;, &quot;detectRetina&quot;: false, &quot;maxNativeZoom&quot;: 18, &quot;maxZoom&quot;: 18, &quot;minZoom&quot;: 0, &quot;noWrap&quot;: false, &quot;opacity&quot;: 1, &quot;subdomains&quot;: &quot;abc&quot;, &quot;tms&quot;: false}\n",
       "            ).addTo(map_ca4ff83180524b50af58a2a5a89e1a09);\n",
       "        \n",
       "    \n",
       "            var marker_554924f77c18c7f17526e78e5bc411cd = L.marker(\n",
       "                [37.7833, -122.4167],\n",
       "                {}\n",
       "            ).addTo(map_ca4ff83180524b50af58a2a5a89e1a09);\n",
       "        \n",
       "    \n",
       "        var popup_1d7d5b95cd3aa62881dfb4d66b3a4b66 = L.popup({&quot;maxWidth&quot;: &quot;100%&quot;});\n",
       "\n",
       "        \n",
       "            \n",
       "                var html_5dbd0619034a525a88a95b6fa4d09029 = $(`&lt;div id=&quot;html_5dbd0619034a525a88a95b6fa4d09029&quot; style=&quot;width: 100.0%; height: 100.0%;&quot;&gt;This is a marker&lt;/div&gt;`)[0];\n",
       "                popup_1d7d5b95cd3aa62881dfb4d66b3a4b66.setContent(html_5dbd0619034a525a88a95b6fa4d09029);\n",
       "            \n",
       "        \n",
       "\n",
       "        marker_554924f77c18c7f17526e78e5bc411cd.bindPopup(popup_1d7d5b95cd3aa62881dfb4d66b3a4b66)\n",
       "        ;\n",
       "\n",
       "        \n",
       "    \n",
       "    \n",
       "            var marker_30fdffe86c39f9844c94fe88bd7bc703 = L.marker(\n",
       "                [37.7833, -122.4167],\n",
       "                {}\n",
       "            ).addTo(map_ca4ff83180524b50af58a2a5a89e1a09);\n",
       "        \n",
       "    \n",
       "        var popup_fc83b6f51af25cf6f2463123aab35626 = L.popup({&quot;maxWidth&quot;: &quot;100%&quot;});\n",
       "\n",
       "        \n",
       "            \n",
       "                var html_2b09144bb23d036a378aea95f271357f = $(`&lt;div id=&quot;html_2b09144bb23d036a378aea95f271357f&quot; style=&quot;width: 100.0%; height: 100.0%;&quot;&gt;This is a marker&lt;/div&gt;`)[0];\n",
       "                popup_fc83b6f51af25cf6f2463123aab35626.setContent(html_2b09144bb23d036a378aea95f271357f);\n",
       "            \n",
       "        \n",
       "\n",
       "        marker_30fdffe86c39f9844c94fe88bd7bc703.bindPopup(popup_fc83b6f51af25cf6f2463123aab35626)\n",
       "        ;\n",
       "\n",
       "        \n",
       "    \n",
       "&lt;/script&gt;\n",
       "&lt;/html&gt;\" style=\"position:absolute;width:100%;height:100%;left:0;top:0;border:none !important;\" allowfullscreen webkitallowfullscreen mozallowfullscreen></iframe></div></div>"
      ],
      "text/plain": [
       "<folium.folium.Map at 0x1acbc42b3d0>"
      ]
     },
     "execution_count": 6,
     "metadata": {},
     "output_type": "execute_result"
    }
   ],
   "source": [
    "marker = folium.Marker(location=[37.7833, -122.4167], popup='This is a marker')\n",
    "map.add_child(marker)\n"
   ]
  },
  {
   "cell_type": "markdown",
   "id": "82088934",
   "metadata": {},
   "source": [
    "Step 5. Save the map. You can do this with the \"folium.save()\" function. This function takes two required parameters: the filename and the output format. The output format can be either HTML or GeoJSON."
   ]
  },
  {
   "cell_type": "code",
   "execution_count": 7,
   "id": "0b7ef179",
   "metadata": {},
   "outputs": [],
   "source": [
    "map.save('my_map.html')\n"
   ]
  },
  {
   "cell_type": "markdown",
   "id": "b73760fb",
   "metadata": {},
   "source": [
    "Step 6. Open the saved map file in a web browser. You can now view and interact with your map."
   ]
  },
  {
   "cell_type": "code",
   "execution_count": null,
   "id": "e22985ff",
   "metadata": {},
   "outputs": [],
   "source": []
  },
  {
   "cell_type": "markdown",
   "id": "96ddd374",
   "metadata": {},
   "source": [
    "Complete Code"
   ]
  },
  {
   "cell_type": "code",
   "execution_count": 8,
   "id": "7bf500fe",
   "metadata": {
    "tags": [
     "Complete_code"
    ]
   },
   "outputs": [],
   "source": [
    "import folium\n",
    "\n",
    "# Create a map object\n",
    "map = folium.Map(location=[37.7833, -122.4167], zoom_start=13, tiles='Stamen Toner')\n",
    "\n",
    "# Add a marker to the map\n",
    "marker = folium.Marker(location=[37.7833, -122.4167], popup='This is a marker')\n",
    "map.add_child(marker)\n",
    "\n",
    "# Save the map\n",
    "map.save('my_map.html')\n"
   ]
  },
  {
   "cell_type": "code",
   "execution_count": null,
   "id": "f3c79616",
   "metadata": {},
   "outputs": [],
   "source": []
  },
  {
   "cell_type": "markdown",
   "id": "825cfd50",
   "metadata": {},
   "source": [
    "# Geopandas"
   ]
  },
  {
   "cell_type": "markdown",
   "id": "bfe6a826",
   "metadata": {},
   "source": [
    "\n",
    "GeoPandas is an open source project to make working with geospatial data in python easier. GeoPandas extends the datatypes used by pandas to allow spatial operations on geometric types. Geometric operations are performed by shapely. Geopandas further depends on fiona for file access and matplotlib for plotting."
   ]
  },
  {
   "cell_type": "markdown",
   "id": "85db770c",
   "metadata": {},
   "source": [
    "Steps :"
   ]
  },
  {
   "cell_type": "markdown",
   "id": "8a3c9b8b",
   "metadata": {},
   "source": [
    "Step 1. Import all the required libraries :"
   ]
  },
  {
   "cell_type": "code",
   "execution_count": 16,
   "id": "dc1408a1",
   "metadata": {},
   "outputs": [
    {
     "name": "stdout",
     "output_type": "stream",
     "text": [
      "Defaulting to user installation because normal site-packages is not writeable\n",
      "Requirement already satisfied: geopandas in c:\\users\\shris\\appdata\\roaming\\python\\python311\\site-packages (0.14.0)\n",
      "Requirement already satisfied: fiona>=1.8.21 in c:\\users\\shris\\appdata\\roaming\\python\\python311\\site-packages (from geopandas) (1.9.5)\n",
      "Requirement already satisfied: packaging in c:\\programdata\\anaconda3\\lib\\site-packages (from geopandas) (23.0)\n",
      "Requirement already satisfied: pandas>=1.4.0 in c:\\programdata\\anaconda3\\lib\\site-packages (from geopandas) (1.5.3)\n",
      "Requirement already satisfied: pyproj>=3.3.0 in c:\\users\\shris\\appdata\\roaming\\python\\python311\\site-packages (from geopandas) (3.6.1)\n",
      "Requirement already satisfied: shapely>=1.8.0 in c:\\users\\shris\\appdata\\roaming\\python\\python311\\site-packages (from geopandas) (2.0.2)\n",
      "Requirement already satisfied: attrs>=19.2.0 in c:\\programdata\\anaconda3\\lib\\site-packages (from fiona>=1.8.21->geopandas) (22.1.0)\n",
      "Requirement already satisfied: certifi in c:\\programdata\\anaconda3\\lib\\site-packages (from fiona>=1.8.21->geopandas) (2023.5.7)\n",
      "Requirement already satisfied: click~=8.0 in c:\\programdata\\anaconda3\\lib\\site-packages (from fiona>=1.8.21->geopandas) (8.0.4)\n",
      "Requirement already satisfied: click-plugins>=1.0 in c:\\users\\shris\\appdata\\roaming\\python\\python311\\site-packages (from fiona>=1.8.21->geopandas) (1.1.1)\n",
      "Requirement already satisfied: cligj>=0.5 in c:\\users\\shris\\appdata\\roaming\\python\\python311\\site-packages (from fiona>=1.8.21->geopandas) (0.7.2)\n",
      "Requirement already satisfied: six in c:\\programdata\\anaconda3\\lib\\site-packages (from fiona>=1.8.21->geopandas) (1.16.0)\n",
      "Requirement already satisfied: setuptools in c:\\programdata\\anaconda3\\lib\\site-packages (from fiona>=1.8.21->geopandas) (67.8.0)\n",
      "Requirement already satisfied: python-dateutil>=2.8.1 in c:\\programdata\\anaconda3\\lib\\site-packages (from pandas>=1.4.0->geopandas) (2.8.2)\n",
      "Requirement already satisfied: pytz>=2020.1 in c:\\programdata\\anaconda3\\lib\\site-packages (from pandas>=1.4.0->geopandas) (2022.7)\n",
      "Requirement already satisfied: numpy>=1.21.0 in c:\\programdata\\anaconda3\\lib\\site-packages (from pandas>=1.4.0->geopandas) (1.24.3)\n",
      "Requirement already satisfied: colorama in c:\\programdata\\anaconda3\\lib\\site-packages (from click~=8.0->fiona>=1.8.21->geopandas) (0.4.6)\n",
      "Defaulting to user installation because normal site-packages is not writeable\n",
      "Requirement already satisfied: shapely in c:\\users\\shris\\appdata\\roaming\\python\\python311\\site-packages (2.0.2)\n",
      "Requirement already satisfied: numpy>=1.14 in c:\\programdata\\anaconda3\\lib\\site-packages (from shapely) (1.24.3)\n"
     ]
    }
   ],
   "source": [
    "!pip install geopandas\n",
    "!pip install shapely"
   ]
  },
  {
   "cell_type": "code",
   "execution_count": 17,
   "id": "e31fbf65",
   "metadata": {},
   "outputs": [],
   "source": [
    "import pandas as pd\n",
    "import geopandas as gpd\n",
    "from shapely.geometry import Point\n",
    "import matplotlib.pyplot as plt\n"
   ]
  },
  {
   "cell_type": "markdown",
   "id": "e5fe3918",
   "metadata": {},
   "source": [
    "Step 2. Create a GeoDataFrame from your longitude and latitude data."
   ]
  },
  {
   "cell_type": "code",
   "execution_count": 26,
   "id": "e41b965b",
   "metadata": {},
   "outputs": [
    {
     "name": "stderr",
     "output_type": "stream",
     "text": [
      "C:\\Users\\shris\\AppData\\Roaming\\Python\\Python311\\site-packages\\pyproj\\crs\\crs.py:141: FutureWarning: '+init=<authority>:<code>' syntax is deprecated. '<authority>:<code>' is the preferred initialization method. When making the change, be mindful of axis order changes: https://pyproj4.github.io/pyproj/stable/gotchas.html#axis-order-changes-in-proj-6\n",
      "  in_crs_string = _prepare_from_proj_string(in_crs_string)\n"
     ]
    }
   ],
   "source": [
    "# Create a list of longitudes\n",
    "longitudes = [13.0827, 28.7027]\n",
    "\n",
    "# Create a list of latitudes\n",
    "latitudes = [82.2707, 77.1025]\n",
    "\n",
    "# Create a DataFrame\n",
    "df = pd.DataFrame({'longitude': longitudes, 'latitude': latitudes})\n",
    "\n",
    "# Print the DataFrame\n",
    "df\n",
    "\n",
    "# Create a list of Point objects from the longitude and latitude data.\n",
    "points = [Point(lon, lat) for lon, lat in zip(df['longitude'], df['latitude'])]\n",
    "\n",
    "# Create a GeoDataFrame with the points as the geometry.\n",
    "gdf = gpd.GeoDataFrame(df, geometry=points)\n",
    "\n",
    "# Set the coordinate reference system (CRS) of the GeoDataFrame.\n",
    "gdf.crs = {'init': 'epsg:3857'}\n",
    "\n"
   ]
  },
  {
   "cell_type": "markdown",
   "id": "9008d068",
   "metadata": {},
   "source": [
    "Step 3. Plot the GeoDataFrame on a map."
   ]
  },
  {
   "cell_type": "code",
   "execution_count": 27,
   "id": "a719c9d6",
   "metadata": {},
   "outputs": [
    {
     "data": {
      "image/png": "[encoded data removed]",
      "text/plain": [
       "<Figure size 640x480 with 1 Axes>"
      ]
     },
     "metadata": {},
     "output_type": "display_data"
    }
   ],
   "source": [
    "# Create a basemap.\n",
    "fig, ax = plt.subplots()\n",
    "\n",
    "# Plot the GeoDataFrame on the basemap.\n",
    "gdf.plot(ax=ax)\n",
    "\n",
    "# Add a title and labels to the plot.\n",
    "ax.set_title('Map of Longitude and Latitude')\n",
    "ax.set_xlabel('Longitude')\n",
    "ax.set_ylabel('Latitude')\n",
    "\n",
    "# Show the plot.\n",
    "plt.show()\n"
   ]
  },
  {
   "cell_type": "code",
   "execution_count": null,
   "id": "ad53e5c8",
   "metadata": {},
   "outputs": [],
   "source": []
  }
 ],
 "metadata": {
  "kernelspec": {
   "display_name": "Python 3 (ipykernel)",
   "language": "python",
   "name": "python3"
  },
  "language_info": {
   "codemirror_mode": {
    "name": "ipython",
    "version": 3
   },
   "file_extension": ".py",
   "mimetype": "text/x-python",
   "name": "python",
   "nbconvert_exporter": "python",
   "pygments_lexer": "ipython3",
   "version": "3.11.3"
  }
 },
 "nbformat": 4,
 "nbformat_minor": 5
}
